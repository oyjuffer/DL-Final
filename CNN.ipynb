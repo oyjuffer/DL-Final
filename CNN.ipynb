{
  "nbformat": 4,
  "nbformat_minor": 0,
  "metadata": {
    "colab": {
      "provenance": [],
      "mount_file_id": "149KuqzgAgxklUKUUHU9qlMPrqenSRRPl",
      "authorship_tag": "ABX9TyN5FEyJ6mph6UShHTD7PQmA",
      "include_colab_link": true
    },
    "kernelspec": {
      "name": "python3",
      "display_name": "Python 3"
    },
    "language_info": {
      "name": "python"
    }
  },
  "cells": [
    {
      "cell_type": "markdown",
      "metadata": {
        "id": "view-in-github",
        "colab_type": "text"
      },
      "source": [
        "<a href=\"https://colab.research.google.com/github/oyjuffer/DL-Final/blob/main/CNN.ipynb\" target=\"_parent\"><img src=\"https://colab.research.google.com/assets/colab-badge.svg\" alt=\"Open In Colab\"/></a>"
      ]
    },
    {
      "cell_type": "code",
      "execution_count": 2,
      "metadata": {
        "colab": {
          "base_uri": "https://localhost:8080/"
        },
        "id": "ryNRh4KOWlr1",
        "outputId": "3db860d1-c25e-49bc-dba1-ed62af16650a"
      },
      "outputs": [
        {
          "output_type": "stream",
          "name": "stdout",
          "text": [
            "Drive already mounted at /content/drive; to attempt to forcibly remount, call drive.mount(\"/content/drive\", force_remount=True).\n"
          ]
        }
      ],
      "source": [
        "from google.colab import drive\n",
        "drive.mount('/content/drive')\n",
        "\n",
        "# dataset directory.\n",
        "data_dir= \"/content/drive/MyDrive/FER-2013/\""
      ]
    },
    {
      "cell_type": "code",
      "source": [
        "import os\n",
        "for dirname, _, filenames in os.walk(data_dir):\n",
        "    for filename in filenames:\n",
        "        print(os.path.join(dirname, filename))"
      ],
      "metadata": {
        "colab": {
          "base_uri": "https://localhost:8080/"
        },
        "id": "gJYEs9WuZxdH",
        "outputId": "e8cf01fd-44c0-4ef6-f402-16b962a66344"
      },
      "execution_count": 3,
      "outputs": [
        {
          "output_type": "stream",
          "name": "stdout",
          "text": [
            "/content/drive/MyDrive/FER-2013/test/happy/PrivateTest_14053744.jpg\n",
            "/content/drive/MyDrive/FER-2013/test/happy/PublicTest_93250546.jpg\n",
            "/content/drive/MyDrive/FER-2013/test/happy/PrivateTest_82138406.jpg\n",
            "/content/drive/MyDrive/FER-2013/test/happy/PrivateTest_9558875.jpg\n",
            "/content/drive/MyDrive/FER-2013/test/happy/PrivateTest_33881696.jpg\n",
            "/content/drive/MyDrive/FER-2013/test/happy/PrivateTest_25805516.jpg\n",
            "/content/drive/MyDrive/FER-2013/test/happy/PrivateTest_91724364.jpg\n",
            "/content/drive/MyDrive/FER-2013/test/happy/PublicTest_61324346.jpg\n",
            "/content/drive/MyDrive/FER-2013/test/happy/PublicTest_36158334.jpg\n",
            "/content/drive/MyDrive/FER-2013/test/happy/PublicTest_38027064.jpg\n",
            "/content/drive/MyDrive/FER-2013/test/happy/PublicTest_77857288.jpg\n",
            "/content/drive/MyDrive/FER-2013/test/happy/PublicTest_42454296.jpg\n",
            "/content/drive/MyDrive/FER-2013/test/happy/PrivateTest_53681643.jpg\n",
            "/content/drive/MyDrive/FER-2013/test/happy/PublicTest_68051083.jpg\n",
            "/content/drive/MyDrive/FER-2013/test/happy/PublicTest_23722688.jpg\n",
            "/content/drive/MyDrive/FER-2013/test/happy/PrivateTest_3881907.jpg\n",
            "/content/drive/MyDrive/FER-2013/test/happy/PrivateTest_46068756.jpg\n",
            "/content/drive/MyDrive/FER-2013/test/happy/PrivateTest_88188163.jpg\n",
            "/content/drive/MyDrive/FER-2013/test/happy/PublicTest_45906897.jpg\n",
            "/content/drive/MyDrive/FER-2013/test/happy/PublicTest_60745458.jpg\n",
            "/content/drive/MyDrive/FER-2013/test/happy/PublicTest_53602715.jpg\n",
            "/content/drive/MyDrive/FER-2013/test/happy/PrivateTest_251881.jpg\n",
            "/content/drive/MyDrive/FER-2013/test/happy/PublicTest_1580581.jpg\n",
            "/content/drive/MyDrive/FER-2013/test/happy/PrivateTest_68696484.jpg\n",
            "/content/drive/MyDrive/FER-2013/test/happy/PrivateTest_16429842.jpg\n",
            "/content/drive/MyDrive/FER-2013/test/happy/PublicTest_8970135.jpg\n",
            "/content/drive/MyDrive/FER-2013/test/happy/PublicTest_41209739.jpg\n",
            "/content/drive/MyDrive/FER-2013/test/happy/PublicTest_17302120.jpg\n",
            "/content/drive/MyDrive/FER-2013/test/happy/PrivateTest_92514405.jpg\n",
            "/content/drive/MyDrive/FER-2013/test/happy/PublicTest_57762304.jpg\n",
            "/content/drive/MyDrive/FER-2013/test/happy/PublicTest_32851310.jpg\n",
            "/content/drive/MyDrive/FER-2013/test/happy/PrivateTest_6876358.jpg\n",
            "/content/drive/MyDrive/FER-2013/test/happy/PrivateTest_5841098.jpg\n",
            "/content/drive/MyDrive/FER-2013/test/happy/PrivateTest_22108748.jpg\n",
            "/content/drive/MyDrive/FER-2013/test/happy/PrivateTest_68708045.jpg\n",
            "/content/drive/MyDrive/FER-2013/test/happy/PrivateTest_57229385.jpg\n",
            "/content/drive/MyDrive/FER-2013/test/happy/PublicTest_41104919.jpg\n",
            "/content/drive/MyDrive/FER-2013/test/happy/PrivateTest_52109800.jpg\n",
            "/content/drive/MyDrive/FER-2013/test/happy/PrivateTest_16487993.jpg\n",
            "/content/drive/MyDrive/FER-2013/test/happy/PrivateTest_61855708.jpg\n",
            "/content/drive/MyDrive/FER-2013/test/happy/PublicTest_53681781.jpg\n",
            "/content/drive/MyDrive/FER-2013/test/happy/PublicTest_16609356.jpg\n",
            "/content/drive/MyDrive/FER-2013/test/happy/PrivateTest_32138585.jpg\n",
            "/content/drive/MyDrive/FER-2013/test/happy/PublicTest_10283102.jpg\n",
            "/content/drive/MyDrive/FER-2013/test/happy/PublicTest_62445662.jpg\n",
            "/content/drive/MyDrive/FER-2013/test/happy/PrivateTest_45699463.jpg\n",
            "/content/drive/MyDrive/FER-2013/test/happy/PrivateTest_72623208.jpg\n",
            "/content/drive/MyDrive/FER-2013/test/happy/PublicTest_27405208.jpg\n",
            "/content/drive/MyDrive/FER-2013/test/happy/PublicTest_4325988.jpg\n",
            "/content/drive/MyDrive/FER-2013/test/happy/PublicTest_31517868.jpg\n",
            "/content/drive/MyDrive/FER-2013/test/happy/PublicTest_70698912.jpg\n",
            "/content/drive/MyDrive/FER-2013/test/happy/PrivateTest_40197960.jpg\n",
            "/content/drive/MyDrive/FER-2013/test/happy/PrivateTest_71684451.jpg\n",
            "/content/drive/MyDrive/FER-2013/test/happy/PublicTest_10527411.jpg\n",
            "/content/drive/MyDrive/FER-2013/test/happy/PublicTest_64414749.jpg\n",
            "/content/drive/MyDrive/FER-2013/test/happy/PublicTest_83110821.jpg\n",
            "/content/drive/MyDrive/FER-2013/test/happy/PrivateTest_97916050.jpg\n",
            "/content/drive/MyDrive/FER-2013/test/happy/PrivateTest_49869263.jpg\n",
            "/content/drive/MyDrive/FER-2013/test/happy/PrivateTest_81084455.jpg\n",
            "/content/drive/MyDrive/FER-2013/test/happy/PrivateTest_82781232.jpg\n",
            "/content/drive/MyDrive/FER-2013/test/happy/PublicTest_96979522.jpg\n",
            "/content/drive/MyDrive/FER-2013/test/happy/PrivateTest_80479348.jpg\n",
            "/content/drive/MyDrive/FER-2013/test/happy/PrivateTest_80597508.jpg\n",
            "/content/drive/MyDrive/FER-2013/test/happy/PublicTest_86341575.jpg\n",
            "/content/drive/MyDrive/FER-2013/test/happy/PublicTest_52451195.jpg\n",
            "/content/drive/MyDrive/FER-2013/test/happy/PublicTest_81147127.jpg\n",
            "/content/drive/MyDrive/FER-2013/test/happy/PrivateTest_64261891.jpg\n",
            "/content/drive/MyDrive/FER-2013/test/happy/PublicTest_50918771.jpg\n",
            "/content/drive/MyDrive/FER-2013/test/happy/PublicTest_79742484.jpg\n",
            "/content/drive/MyDrive/FER-2013/test/happy/PrivateTest_18748017.jpg\n",
            "/content/drive/MyDrive/FER-2013/test/happy/PublicTest_92086904.jpg\n",
            "/content/drive/MyDrive/FER-2013/test/happy/PublicTest_13648674.jpg\n",
            "/content/drive/MyDrive/FER-2013/test/happy/PublicTest_12481108.jpg\n",
            "/content/drive/MyDrive/FER-2013/test/happy/PrivateTest_25207883.jpg\n",
            "/content/drive/MyDrive/FER-2013/test/happy/PublicTest_22442398.jpg\n",
            "/content/drive/MyDrive/FER-2013/test/happy/PublicTest_28388726.jpg\n",
            "/content/drive/MyDrive/FER-2013/test/happy/PrivateTest_41502047.jpg\n",
            "/content/drive/MyDrive/FER-2013/test/happy/PublicTest_96081587.jpg\n",
            "/content/drive/MyDrive/FER-2013/test/happy/PrivateTest_79602374.jpg\n",
            "/content/drive/MyDrive/FER-2013/test/happy/PrivateTest_79550475.jpg\n",
            "/content/drive/MyDrive/FER-2013/test/happy/PrivateTest_67671289.jpg\n",
            "/content/drive/MyDrive/FER-2013/test/happy/PublicTest_82333206.jpg\n",
            "/content/drive/MyDrive/FER-2013/test/happy/PublicTest_1936536.jpg\n",
            "/content/drive/MyDrive/FER-2013/test/happy/PrivateTest_33607564.jpg\n",
            "/content/drive/MyDrive/FER-2013/test/happy/PrivateTest_32306940.jpg\n",
            "/content/drive/MyDrive/FER-2013/test/happy/PublicTest_4611414.jpg\n",
            "/content/drive/MyDrive/FER-2013/test/happy/PrivateTest_18691574.jpg\n",
            "/content/drive/MyDrive/FER-2013/test/happy/PublicTest_79481503.jpg\n",
            "/content/drive/MyDrive/FER-2013/test/happy/PublicTest_82604675.jpg\n",
            "/content/drive/MyDrive/FER-2013/test/happy/PrivateTest_59886779.jpg\n",
            "/content/drive/MyDrive/FER-2013/test/happy/PrivateTest_19864965.jpg\n",
            "/content/drive/MyDrive/FER-2013/test/happy/PrivateTest_23344981.jpg\n",
            "/content/drive/MyDrive/FER-2013/test/happy/PrivateTest_647018.jpg\n",
            "/content/drive/MyDrive/FER-2013/test/happy/PublicTest_80992661.jpg\n",
            "/content/drive/MyDrive/FER-2013/test/happy/PublicTest_90837676.jpg\n",
            "/content/drive/MyDrive/FER-2013/test/happy/PublicTest_5080928.jpg\n",
            "/content/drive/MyDrive/FER-2013/test/happy/PublicTest_24239238.jpg\n",
            "/content/drive/MyDrive/FER-2013/test/happy/PublicTest_97542823.jpg\n",
            "/content/drive/MyDrive/FER-2013/test/happy/PrivateTest_66551790.jpg\n",
            "/content/drive/MyDrive/FER-2013/test/happy/PublicTest_37570229.jpg\n",
            "/content/drive/MyDrive/FER-2013/test/happy/PublicTest_62055903.jpg\n",
            "/content/drive/MyDrive/FER-2013/test/happy/PublicTest_92475886.jpg\n",
            "/content/drive/MyDrive/FER-2013/test/happy/PrivateTest_30108404.jpg\n"
          ]
        }
      ]
    },
    {
      "cell_type": "code",
      "source": [
        "# input and batch size specification.\n",
        "input_size = (224,224)\n",
        "batch_size = 60"
      ],
      "metadata": {
        "id": "LmRy53_wY3C8"
      },
      "execution_count": null,
      "outputs": []
    }
  ]
}