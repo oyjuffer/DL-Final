{
 "cells": [
  {
   "attachments": {},
   "cell_type": "markdown",
   "metadata": {},
   "source": [
    "# Emotion Recognition with the Vision Transformer (ViT)"
   ]
  },
  {
   "attachments": {},
   "cell_type": "markdown",
   "metadata": {},
   "source": [
    "### Packages"
   ]
  },
  {
   "cell_type": "code",
   "execution_count": null,
   "metadata": {},
   "outputs": [],
   "source": [
    "import os\n",
    "import pickle\n",
    "\n",
    "import cv2\n",
    "import pandas as pd\n",
    "import numpy as np\n",
    "import seaborn as sns\n",
    "import opendatasets as od\n",
    "import torch\n",
    "import torch.nn as nn\n",
    "import evaluate\n",
    "\n",
    "from datasets import *\n",
    "from transformers import ViTImageProcessor\n",
    "from transformers import ViTModel\n",
    "from transformers import TrainingArguments, Trainer\n",
    "from transformers.modeling_outputs import SequenceClassifierOutput\n",
    "from transformers import EarlyStoppingCallback, IntervalStrategy\n",
    "\n",
    "from torchinfo import summary\n",
    "from matplotlib import pyplot as plt\n",
    "from sklearn.metrics import confusion_matrix"
   ]
  },
  {
   "attachments": {},
   "cell_type": "markdown",
   "metadata": {},
   "source": [
    "## Load Data"
   ]
  },
  {
   "cell_type": "code",
   "execution_count": 3,
   "metadata": {},
   "outputs": [],
   "source": [
    "# Load the dataset from the emotion-detection-fer folder\n",
    "# This contains two folders, test and train, each with 7 folders, one for each emotion.\n",
    "# Load data as rgb images label as [img, label] in a pandas dataframe for both test and train\n",
    "\n",
    "string_labels = ['angry', 'disgusted', 'fearful', 'happy', 'neutral', 'sad', 'surprised']\n",
    "\n",
    "def load_data(data_dir):\n",
    "    data = []\n",
    "    for emotion in os.listdir(data_dir):\n",
    "        for item in os.listdir(os.path.join(data_dir, emotion)):\n",
    "            img = cv2.imread(os.path.join(data_dir, emotion, item))\n",
    "            img = cv2.cvtColor(img, cv2.COLOR_BGR2RGB)\n",
    "            img = img.astype(int).tolist()\n",
    "            # Convert emotion label to integer label\n",
    "            index = string_labels.index(emotion)\n",
    "            data.append([img, index])\n",
    "    return pd.DataFrame(data, columns=['img', 'label'])\n",
    "\n",
    "train_ds = Dataset.from_pandas(load_data('emotion-detection-fer/train'))\n",
    "test_ds = Dataset.from_pandas(load_data('emotion-detection-fer/test'))"
   ]
  },
  {
   "attachments": {},
   "cell_type": "markdown",
   "metadata": {},
   "source": [
    "## Preprocessing"
   ]
  },
  {
   "cell_type": "code",
   "execution_count": 4,
   "metadata": {},
   "outputs": [
    {
     "name": "stdout",
     "output_type": "stream",
     "text": [
      "Train: 22967\n",
      "Validation: 5742\n",
      "Test: 7178\n"
     ]
    }
   ],
   "source": [
    "feature_extractor = ViTImageProcessor.from_pretrained('google/vit-base-patch16-224-in21k')\n",
    "\n",
    "train_validation_ds  = train_ds.train_test_split(test_size=0.2)\n",
    "train_ds = train_validation_ds[\"train\"]\n",
    "validation_ds = train_validation_ds[\"test\"]\n",
    "\n",
    "# Check Proportions\n",
    "# Of the original 80/20 split for training/testing, training was split again by 80/20 for training/validation. \n",
    "print(\"Train:\", len(train_ds))\n",
    "print(\"Validation:\", len(validation_ds))\n",
    "print(\"Test:\", len(test_ds))"
   ]
  },
  {
   "cell_type": "code",
   "execution_count": 5,
   "metadata": {},
   "outputs": [],
   "source": [
    "def preprocess_images(examples):\n",
    "    \"\"\" Prepare datasets for vision transformer \n",
    "    input: dataset with images in their orignal size \n",
    "    output: dataset with pixelvalues computed by the feature extractor added \"\"\"\n",
    "    # get batch of images\n",
    "    images = examples['img']\n",
    "    # convert to list of NumPy arrays of shape (C, H, W)\n",
    "    images = [np.array(image, dtype=np.uint8) for image in images]\n",
    "    images = [np.moveaxis(image, source=-1, destination=0) for image in images]\n",
    "    # preprocess and add pixel_values\n",
    "    inputs = feature_extractor(images=images)\n",
    "    examples['pixel_values'] = inputs['pixel_values']\n",
    "\n",
    "    return examples"
   ]
  },
  {
   "cell_type": "code",
   "execution_count": null,
   "metadata": {},
   "outputs": [],
   "source": [
    "# features of the new dataset with an additional column for the preprocess 224x224x3 images \n",
    "features = Features({\n",
    "    'label': ClassLabel(names=string_labels),\n",
    "    'img': Array3D(dtype=\"int64\", shape=(3,48,48)),\n",
    "    'pixel_values': Array3D(dtype=\"float32\", shape=(3, 224, 224)),\n",
    "})\n",
    "\n",
    "# TRAIN\n",
    "preprocessed_train_ds = train_ds.map(preprocess_images, batched=True, batch_size=1, features=features)\n",
    "with open('preprocessed_train_ds.pickle', 'wb') as handle:\n",
    "    pickle.dump(preprocessed_train_ds, handle, protocol=pickle.HIGHEST_PROTOCOL)\n",
    "\n",
    "# VALIDATION\n",
    "preprocessed_validation_ds = validation_ds.map(preprocess_images, batched=True, features=features)\n",
    "with open('preprocessed_validation_ds.pickle', 'wb') as handle:\n",
    "   pickle.dump(preprocessed_validation_ds, handle, protocol=pickle.HIGHEST_PROTOCOL)\n",
    "\n",
    "# TEST\n",
    "preprocessed_test_ds = test_ds.map(preprocess_images, batched=True, features=features)\n",
    "with open('preprocessed_test_ds.pickle', 'wb') as handle:\n",
    "   pickle.dump(preprocessed_test_ds, handle, protocol=pickle.HIGHEST_PROTOCOL)\n",
    "\n",
    "   "
   ]
  },
  {
   "attachments": {},
   "cell_type": "markdown",
   "metadata": {},
   "source": [
    "### Load Pickle Data\n",
    "If preprocessed data is already present in the folder, it can just be loaded here to save some time."
   ]
  },
  {
   "cell_type": "code",
   "execution_count": 7,
   "metadata": {},
   "outputs": [],
   "source": [
    "# string_labels = ['angry', 'disgusted', 'fearful', 'happy', 'neutral', 'sad', 'surprised']\n",
    "\n",
    "# with open('preprocessed_train_ds.pickle', 'rb') as handle:\n",
    "#     preprocessed_train_ds = pickle.load(handle)\n",
    "\n",
    "# with open('preprocessed_validation_ds.pickle', 'rb') as handle:\n",
    "#     preprocessed_validation_ds = pickle.load(handle)\n",
    "\n",
    "# with open('preprocessed_test_ds.pickle', 'rb') as handle:\n",
    "#     preprocessed_test_ds = pickle.load(handle)"
   ]
  },
  {
   "attachments": {},
   "cell_type": "markdown",
   "metadata": {},
   "source": [
    "## Model"
   ]
  },
  {
   "cell_type": "code",
   "execution_count": 8,
   "metadata": {},
   "outputs": [],
   "source": [
    "class ViTForImageClassification(nn.Module):\n",
    "    #define architecture\n",
    "    def __init__(self, num_labels=len(string_labels)):\n",
    "        super(ViTForImageClassification, self).__init__()\n",
    "        self.vit = ViTModel.from_pretrained('google/vit-base-patch16-224-in21k')\n",
    "        self.dropout = nn.Dropout(0.1)\n",
    "        self.classifier = nn.Linear(self.vit.config.hidden_size, num_labels)\n",
    "        self.num_labels = num_labels\n",
    "\n",
    "    #define a forward pass through that architecture + loss computation\n",
    "    def forward(self, pixel_values, labels):\n",
    "        outputs = self.vit(pixel_values=pixel_values)\n",
    "        output = self.dropout(outputs.last_hidden_state[:,0])\n",
    "        logits = self.classifier(output)\n",
    "\n",
    "        loss = None\n",
    "        if labels is not None:\n",
    "          loss_fct = nn.CrossEntropyLoss()\n",
    "          loss = loss_fct(logits.view(-1, self.num_labels), labels.view(-1))\n",
    "\n",
    "        return SequenceClassifierOutput(\n",
    "            loss=loss,\n",
    "            logits=logits,\n",
    "            hidden_states=outputs.hidden_states,\n",
    "            attentions=outputs.attentions,\n",
    "        )"
   ]
  },
  {
   "cell_type": "code",
   "execution_count": 9,
   "metadata": {},
   "outputs": [],
   "source": [
    "args = TrainingArguments(\n",
    "    f\"training\",\n",
    "    evaluation_strategy = IntervalStrategy.STEPS,\n",
    "    eval_steps = 500,\n",
    "    save_total_limit = 5,\n",
    "    learning_rate=2e-5,\n",
    "    per_device_train_batch_size=16,\n",
    "    per_device_eval_batch_size=16,\n",
    "    num_train_epochs=5,\n",
    "    weight_decay=0.01,\n",
    "    load_best_model_at_end = True,\n",
    "    metric_for_best_model = \"f1\",\n",
    "    logging_dir='logs',\n",
    ")"
   ]
  },
  {
   "cell_type": "code",
   "execution_count": 10,
   "metadata": {},
   "outputs": [],
   "source": [
    "accuracy_metric = evaluate.load(\"accuracy\")\n",
    "f1_metric = evaluate.load(\"f1\")\n",
    "\n",
    "def compute_metrics(eval_pred):\n",
    "    predictions, labels = eval_pred\n",
    "    predictions = np.argmax(predictions, axis=1)\n",
    "    accuracy = accuracy_metric.compute(predictions=predictions, references=labels)[\"accuracy\"]\n",
    "    f1 = f1_metric.compute(predictions=predictions, references=labels, average='macro')[\"f1\"]\n",
    "    return {\"accuracy\": accuracy, \"f1\": f1}"
   ]
  },
  {
   "cell_type": "code",
   "execution_count": 11,
   "metadata": {},
   "outputs": [],
   "source": [
    "model = ViTForImageClassification()"
   ]
  },
  {
   "cell_type": "code",
   "execution_count": 12,
   "metadata": {},
   "outputs": [
    {
     "name": "stdout",
     "output_type": "stream",
     "text": [
      "CUDA AVAILABLE: True\n"
     ]
    }
   ],
   "source": [
    "# checks if cuda is available for use of the gpu.\n",
    "print(\"CUDA AVAILABLE:\", torch.cuda.is_available())\n",
    "\n",
    "device = torch.device(\"cuda:0\" if torch.cuda.is_available() else \"cpu\")\n",
    "trainer = Trainer(\n",
    "    model = model,\n",
    "    args = args,\n",
    "    train_dataset = preprocessed_train_ds,\n",
    "    eval_dataset = preprocessed_validation_ds,\n",
    "    compute_metrics = compute_metrics,\n",
    "    callbacks = [EarlyStoppingCallback(early_stopping_patience=3)]\n",
    ")"
   ]
  },
  {
   "attachments": {},
   "cell_type": "markdown",
   "metadata": {},
   "source": [
    "## Train Model"
   ]
  },
  {
   "cell_type": "code",
   "execution_count": null,
   "metadata": {},
   "outputs": [],
   "source": [
    "# training\n",
    "model.to(device)\n",
    "trainer.train()\n",
    "\n",
    "# save the model for later use\n",
    "trainer.save_model(\"model\")"
   ]
  },
  {
   "attachments": {},
   "cell_type": "markdown",
   "metadata": {},
   "source": [
    "## Evaluation"
   ]
  },
  {
   "cell_type": "code",
   "execution_count": 16,
   "metadata": {},
   "outputs": [
    {
     "data": {
      "application/vnd.jupyter.widget-view+json": {
       "model_id": "2295331a3f314322a787908c54115f11",
       "version_major": 2,
       "version_minor": 0
      },
      "text/plain": [
       "  0%|          | 0/449 [00:00<?, ?it/s]"
      ]
     },
     "metadata": {},
     "output_type": "display_data"
    },
    {
     "name": "stdout",
     "output_type": "stream",
     "text": [
      "{'test_loss': 0.9539341926574707, 'test_accuracy': 0.68431317915854, 'test_f1': 0.6510454305177246, 'test_runtime': 233.5717, 'test_samples_per_second': 30.731, 'test_steps_per_second': 1.922}\n"
     ]
    }
   ],
   "source": [
    "outputs = trainer.predict(preprocessed_test_ds)\n",
    "print(outputs.metrics)"
   ]
  },
  {
   "cell_type": "code",
   "execution_count": 17,
   "metadata": {},
   "outputs": [
    {
     "data": {
      "image/png": "[encoded data removed]",
      "text/plain": [
       "<Figure size 800x600 with 2 Axes>"
      ]
     },
     "metadata": {},
     "output_type": "display_data"
    }
   ],
   "source": [
    "y_true = outputs.label_ids\n",
    "y_pred = outputs.predictions.argmax(1)\n",
    "\n",
    "cm = confusion_matrix(y_true, y_pred)\n",
    "\n",
    "# plot with seaborn\n",
    "fig, ax = plt.subplots(figsize=(8,6))  \n",
    "ax = sns.heatmap(cm, annot=True, fmt=\"d\", linewidths=.5, xticklabels=string_labels, yticklabels=string_labels)\n",
    "plt.xlabel(\"Predicted\")\n",
    "plt.ylabel(\"True\")\n",
    "plt.show()"
   ]
  }
 ],
 "metadata": {
  "kernelspec": {
   "display_name": "Python 3",
   "language": "python",
   "name": "python3"
  },
  "language_info": {
   "codemirror_mode": {
    "name": "ipython",
    "version": 3
   },
   "file_extension": ".py",
   "mimetype": "text/x-python",
   "name": "python",
   "nbconvert_exporter": "python",
   "pygments_lexer": "ipython3",
   "version": "3.10.8"
  },
  "orig_nbformat": 4
 },
 "nbformat": 4,
 "nbformat_minor": 2
}
